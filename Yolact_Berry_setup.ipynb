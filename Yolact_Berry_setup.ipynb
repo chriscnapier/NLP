{
  "cells": [
    {
      "cell_type": "markdown",
      "metadata": {
        "id": "view-in-github",
        "colab_type": "text"
      },
      "source": [
        "<a href=\"https://colab.research.google.com/github/chriscnapier/NLP/blob/master/Yolact_Berry_setup.ipynb\" target=\"_parent\"><img src=\"https://colab.research.google.com/assets/colab-badge.svg\" alt=\"Open In Colab\"/></a>"
      ]
    },
    {
      "cell_type": "code",
      "execution_count": 1,
      "metadata": {
        "id": "XEZnjK-_xjts",
        "colab": {
          "base_uri": "https://localhost:8080/"
        },
        "outputId": "02811162-94c1-4067-9d22-54099cb11531"
      },
      "outputs": [
        {
          "output_type": "stream",
          "name": "stdout",
          "text": [
            "--2025-01-03 04:38:40--  https://raw.githubusercontent.com/chriscnapier/Neural-Network/master/Meta.zip\n",
            "Resolving raw.githubusercontent.com (raw.githubusercontent.com)... 185.199.111.133, 185.199.110.133, 185.199.109.133, ...\n",
            "Connecting to raw.githubusercontent.com (raw.githubusercontent.com)|185.199.111.133|:443... connected.\n",
            "HTTP request sent, awaiting response... 200 OK\n",
            "Length: 250081 (244K) [application/zip]\n",
            "Saving to: ‘Meta.zip’\n",
            "\n",
            "Meta.zip            100%[===================>] 244.22K  --.-KB/s    in 0.03s   \n",
            "\n",
            "2025-01-03 04:38:41 (7.90 MB/s) - ‘Meta.zip’ saved [250081/250081]\n",
            "\n",
            "total 1.8M\n",
            "-rw-r--r-- 1 root root 45K Dec 11 04:19 Wheat_001_001_001_000.json\n",
            "-rw-r--r-- 1 root root 40K Dec 11 04:19 Wheat_001_001_001_001.json\n",
            "-rw-r--r-- 1 root root 41K Dec 11 04:19 Wheat_001_001_001_002.json\n",
            "-rw-r--r-- 1 root root 42K Dec 11 04:19 Wheat_001_001_002_000.json\n",
            "-rw-r--r-- 1 root root 40K Dec 11 04:19 Wheat_001_001_002_001.json\n",
            "-rw-r--r-- 1 root root 47K Dec 11 04:19 Wheat_001_001_002_002.json\n",
            "-rw-r--r-- 1 root root 50K Dec 11 04:20 Wheat_001_001_003_000.json\n",
            "-rw-r--r-- 1 root root 44K Dec 11 04:20 Wheat_001_001_003_001.json\n",
            "-rw-r--r-- 1 root root 46K Dec 11 04:20 Wheat_001_001_003_002.json\n",
            "-rw-r--r-- 1 root root 30K Dec 11 04:20 Wheat_002_001_001_000.json\n",
            "-rw-r--r-- 1 root root 38K Dec 11 04:20 Wheat_002_001_001_001.json\n",
            "-rw-r--r-- 1 root root 34K Dec 11 04:20 Wheat_002_001_001_002.json\n",
            "-rw-r--r-- 1 root root 32K Dec 11 04:20 Wheat_002_001_002_000.json\n",
            "-rw-r--r-- 1 root root 34K Dec 11 04:20 Wheat_002_001_002_001.json\n",
            "-rw-r--r-- 1 root root 36K Dec 11 04:20 Wheat_002_001_002_002.json\n",
            "-rw-r--r-- 1 root root 40K Dec 11 04:20 Wheat_002_001_003_000.json\n",
            "-rw-r--r-- 1 root root 37K Dec 11 04:20 Wheat_002_001_003_001.json\n",
            "-rw-r--r-- 1 root root 34K Dec 11 04:20 Wheat_002_001_003_002.json\n",
            "-rw-r--r-- 1 root root 36K Dec 11 04:20 Wheat_003_001_001_000.json\n",
            "-rw-r--r-- 1 root root 33K Dec 11 04:20 Wheat_003_001_001_001.json\n",
            "-rw-r--r-- 1 root root 35K Dec 11 04:20 Wheat_003_001_001_002.json\n",
            "-rw-r--r-- 1 root root 35K Dec 11 04:20 Wheat_003_001_002_000.json\n",
            "-rw-r--r-- 1 root root 37K Dec 11 04:20 Wheat_003_001_002_001.json\n",
            "-rw-r--r-- 1 root root 40K Dec 11 04:20 Wheat_003_001_002_002.json\n",
            "-rw-r--r-- 1 root root 39K Dec 11 04:20 Wheat_003_001_003_000.json\n",
            "-rw-r--r-- 1 root root 35K Dec 11 04:20 Wheat_003_001_003_001.json\n",
            "-rw-r--r-- 1 root root 36K Dec 11 04:20 Wheat_003_001_003_002.json\n",
            "-rw-r--r-- 1 root root 40K Dec 11 04:21 Wheat_004_001_001_000.json\n",
            "-rw-r--r-- 1 root root 41K Dec 11 04:21 Wheat_004_001_001_001.json\n",
            "-rw-r--r-- 1 root root 33K Dec 11 04:21 Wheat_004_001_001_002.json\n",
            "-rw-r--r-- 1 root root 35K Dec 11 04:21 Wheat_004_001_002_000.json\n",
            "-rw-r--r-- 1 root root 38K Dec 11 04:21 Wheat_004_001_002_001.json\n",
            "-rw-r--r-- 1 root root 38K Dec 11 04:21 Wheat_004_001_002_002.json\n",
            "-rw-r--r-- 1 root root 45K Dec 11 04:21 Wheat_004_001_003_000.json\n",
            "-rw-r--r-- 1 root root 39K Dec 11 04:21 Wheat_004_001_003_001.json\n",
            "-rw-r--r-- 1 root root 38K Dec 11 04:21 Wheat_004_001_003_002.json\n",
            "-rw-r--r-- 1 root root 40K Dec 11 04:21 Wheat_005_001_001_000.json\n",
            "-rw-r--r-- 1 root root 39K Dec 11 04:21 Wheat_005_001_001_001.json\n",
            "-rw-r--r-- 1 root root 40K Dec 11 04:21 Wheat_005_001_001_002.json\n",
            "-rw-r--r-- 1 root root 48K Dec 11 04:21 Wheat_005_001_002_000.json\n",
            "-rw-r--r-- 1 root root 40K Dec 11 04:21 Wheat_005_001_002_001.json\n",
            "-rw-r--r-- 1 root root 45K Dec 11 04:21 Wheat_005_001_002_002.json\n",
            "-rw-r--r-- 1 root root 46K Dec 11 04:21 Wheat_005_001_003_000.json\n",
            "-rw-r--r-- 1 root root 44K Dec 11 04:21 Wheat_005_001_003_001.json\n",
            "-rw-r--r-- 1 root root 47K Dec 11 04:21 Wheat_005_001_003_002.json\n",
            "total 616K\n",
            "-rw-r--r-- 1 root root 42K Dec 11 04:19 Wheat_001_001_001_003.json\n",
            "-rw-r--r-- 1 root root 49K Dec 11 04:20 Wheat_001_001_002_003.json\n",
            "-rw-r--r-- 1 root root 47K Dec 11 04:20 Wheat_001_001_003_003.json\n",
            "-rw-r--r-- 1 root root 30K Dec 11 04:20 Wheat_002_001_001_003.json\n",
            "-rw-r--r-- 1 root root 38K Dec 11 04:20 Wheat_002_001_002_003.json\n",
            "-rw-r--r-- 1 root root 35K Dec 11 04:20 Wheat_002_001_003_003.json\n",
            "-rw-r--r-- 1 root root 32K Dec 11 04:20 Wheat_003_001_001_003.json\n",
            "-rw-r--r-- 1 root root 35K Dec 11 04:20 Wheat_003_001_002_003.json\n",
            "-rw-r--r-- 1 root root 37K Dec 11 04:20 Wheat_003_001_003_003.json\n",
            "-rw-r--r-- 1 root root 32K Dec 11 04:21 Wheat_004_001_001_003.json\n",
            "-rw-r--r-- 1 root root 41K Dec 11 04:21 Wheat_004_001_002_003.json\n",
            "-rw-r--r-- 1 root root 38K Dec 11 04:21 Wheat_004_001_003_003.json\n",
            "-rw-r--r-- 1 root root 46K Dec 11 04:21 Wheat_005_001_001_003.json\n",
            "-rw-r--r-- 1 root root 45K Dec 11 04:21 Wheat_005_001_002_003.json\n",
            "-rw-r--r-- 1 root root 43K Dec 11 04:21 Wheat_005_001_003_003.json\n"
          ]
        }
      ],
      "source": [
        "#\n",
        "# Get and unzip Meta.zip from chriscnapier GitHub and store it in local\n",
        "# /content/Meta, as json dictionary files\n",
        "# overwriting any existing same named files (-o).\n",
        "#\n",
        "!wget https://raw.githubusercontent.com/chriscnapier/Neural-Network/master/Meta.zip\n",
        "!unzip -o Meta.zip > /dev/null\n",
        "#!ls -lh Meta/*\n",
        "%mkdir -p info/train\n",
        "%mkdir -p info/valid\n",
        "%mv -u Meta/*000.json info/train/\n",
        "%mv -u Meta/*001.json info/train/\n",
        "%mv -u Meta/*002.json info/train/\n",
        "\n",
        "%mv -u Meta/*003.json info/valid/\n",
        "!ls -lhp info/train\n",
        "!ls -lhp info/valid\n",
        "\n",
        "\n",
        "\n",
        "\n"
      ]
    },
    {
      "cell_type": "code",
      "source": [
        "\n",
        "#\n",
        "# Get and unzip Images.zip from chriscnapier GitHub and store it in local\n",
        "# /content/Images/Data/View as jpg files,\n",
        "# overwriting any existing same named files (-o).\n",
        "!wget https://raw.githubusercontent.com/chriscnapier/Neural-Network/master/Images.zip\n",
        "!unzip -o -d /content/Images Images.zip > /dev/null\n",
        "\n",
        "%mkdir -p images/train\n",
        "%mkdir -p images/valid\n",
        "%mv -u Images/Data/View/*000.jpg images/train/\n",
        "%mv -u Images/Data/View/*001.jpg images/train/\n",
        "%mv -u Images/Data/View/*002.jpg images/train/\n",
        "\n",
        "%mv -u Images/Data/View/*003.jpg images/valid/\n",
        "!ls -lhp ./images/train\n",
        "!ls -lhp ./images/valid\n"
      ],
      "metadata": {
        "colab": {
          "base_uri": "https://localhost:8080/"
        },
        "id": "gD2nXKpjSkVK",
        "outputId": "448fd5d3-9233-46ea-93a8-0f9889009bcb"
      },
      "execution_count": 2,
      "outputs": [
        {
          "output_type": "stream",
          "name": "stdout",
          "text": [
            "--2025-01-03 04:40:39--  https://raw.githubusercontent.com/chriscnapier/Neural-Network/master/Images.zip\n",
            "Resolving raw.githubusercontent.com (raw.githubusercontent.com)... 185.199.108.133, 185.199.109.133, 185.199.110.133, ...\n",
            "Connecting to raw.githubusercontent.com (raw.githubusercontent.com)|185.199.108.133|:443... connected.\n",
            "HTTP request sent, awaiting response... 200 OK\n",
            "Length: 412656 (403K) [application/zip]\n",
            "Saving to: ‘Images.zip’\n",
            "\n",
            "\rImages.zip            0%[                    ]       0  --.-KB/s               \rImages.zip          100%[===================>] 402.98K  --.-KB/s    in 0.03s   \n",
            "\n",
            "2025-01-03 04:40:40 (11.3 MB/s) - ‘Images.zip’ saved [412656/412656]\n",
            "\n",
            "total 720K\n",
            "-rw-r--r-- 1 root root 14K Dec 11 01:17 Wheat_001_001_001_000.jpg\n",
            "-rw-r--r-- 1 root root 14K Dec 11 01:17 Wheat_001_001_001_001.jpg\n",
            "-rw-r--r-- 1 root root 14K Dec 11 01:17 Wheat_001_001_001_002.jpg\n",
            "-rw-r--r-- 1 root root 14K Dec 11 01:17 Wheat_001_001_002_000.jpg\n",
            "-rw-r--r-- 1 root root 14K Dec 11 01:17 Wheat_001_001_002_001.jpg\n",
            "-rw-r--r-- 1 root root 14K Dec 11 01:17 Wheat_001_001_002_002.jpg\n",
            "-rw-r--r-- 1 root root 14K Dec 11 01:17 Wheat_001_001_003_000.jpg\n",
            "-rw-r--r-- 1 root root 14K Dec 11 01:17 Wheat_001_001_003_001.jpg\n",
            "-rw-r--r-- 1 root root 14K Dec 11 01:17 Wheat_001_001_003_002.jpg\n",
            "-rw-r--r-- 1 root root 14K Dec 11 01:17 Wheat_002_001_001_000.jpg\n",
            "-rw-r--r-- 1 root root 14K Dec 11 01:17 Wheat_002_001_001_001.jpg\n",
            "-rw-r--r-- 1 root root 14K Dec 11 01:17 Wheat_002_001_001_002.jpg\n",
            "-rw-r--r-- 1 root root 15K Dec 11 01:17 Wheat_002_001_002_000.jpg\n",
            "-rw-r--r-- 1 root root 15K Dec 11 01:17 Wheat_002_001_002_001.jpg\n",
            "-rw-r--r-- 1 root root 15K Dec 11 01:17 Wheat_002_001_002_002.jpg\n",
            "-rw-r--r-- 1 root root 15K Dec 11 01:17 Wheat_002_001_003_000.jpg\n",
            "-rw-r--r-- 1 root root 15K Dec 11 01:17 Wheat_002_001_003_001.jpg\n",
            "-rw-r--r-- 1 root root 15K Dec 11 01:17 Wheat_002_001_003_002.jpg\n",
            "-rw-r--r-- 1 root root 15K Dec 11 01:17 Wheat_003_001_001_000.jpg\n",
            "-rw-r--r-- 1 root root 15K Dec 11 01:17 Wheat_003_001_001_001.jpg\n",
            "-rw-r--r-- 1 root root 15K Dec 11 01:17 Wheat_003_001_001_002.jpg\n",
            "-rw-r--r-- 1 root root 15K Dec 11 01:17 Wheat_003_001_002_000.jpg\n",
            "-rw-r--r-- 1 root root 15K Dec 11 01:17 Wheat_003_001_002_001.jpg\n",
            "-rw-r--r-- 1 root root 15K Dec 11 01:17 Wheat_003_001_002_002.jpg\n",
            "-rw-r--r-- 1 root root 15K Dec 11 01:17 Wheat_003_001_003_000.jpg\n",
            "-rw-r--r-- 1 root root 15K Dec 11 01:17 Wheat_003_001_003_001.jpg\n",
            "-rw-r--r-- 1 root root 15K Dec 11 01:17 Wheat_003_001_003_002.jpg\n",
            "-rw-r--r-- 1 root root 14K Dec 11 01:17 Wheat_004_001_001_000.jpg\n",
            "-rw-r--r-- 1 root root 13K Dec 11 01:17 Wheat_004_001_001_001.jpg\n",
            "-rw-r--r-- 1 root root 13K Dec 11 01:17 Wheat_004_001_001_002.jpg\n",
            "-rw-r--r-- 1 root root 14K Dec 11 01:17 Wheat_004_001_002_000.jpg\n",
            "-rw-r--r-- 1 root root 14K Dec 11 01:17 Wheat_004_001_002_001.jpg\n",
            "-rw-r--r-- 1 root root 14K Dec 11 01:17 Wheat_004_001_002_002.jpg\n",
            "-rw-r--r-- 1 root root 13K Dec 11 01:18 Wheat_004_001_003_000.jpg\n",
            "-rw-r--r-- 1 root root 13K Dec 11 01:18 Wheat_004_001_003_001.jpg\n",
            "-rw-r--r-- 1 root root 13K Dec 11 01:18 Wheat_004_001_003_002.jpg\n",
            "-rw-r--r-- 1 root root 14K Dec 11 01:18 Wheat_005_001_001_000.jpg\n",
            "-rw-r--r-- 1 root root 15K Dec 11 01:18 Wheat_005_001_001_001.jpg\n",
            "-rw-r--r-- 1 root root 15K Dec 11 01:18 Wheat_005_001_001_002.jpg\n",
            "-rw-r--r-- 1 root root 15K Dec 11 01:18 Wheat_005_001_002_000.jpg\n",
            "-rw-r--r-- 1 root root 15K Dec 11 01:18 Wheat_005_001_002_001.jpg\n",
            "-rw-r--r-- 1 root root 15K Dec 11 01:18 Wheat_005_001_002_002.jpg\n",
            "-rw-r--r-- 1 root root 15K Dec 11 01:18 Wheat_005_001_003_000.jpg\n",
            "-rw-r--r-- 1 root root 15K Dec 11 01:18 Wheat_005_001_003_001.jpg\n",
            "-rw-r--r-- 1 root root 15K Dec 11 01:18 Wheat_005_001_003_002.jpg\n",
            "total 240K\n",
            "-rw-r--r-- 1 root root 14K Dec 11 01:17 Wheat_001_001_001_003.jpg\n",
            "-rw-r--r-- 1 root root 14K Dec 11 01:17 Wheat_001_001_002_003.jpg\n",
            "-rw-r--r-- 1 root root 14K Dec 11 01:17 Wheat_001_001_003_003.jpg\n",
            "-rw-r--r-- 1 root root 14K Dec 11 01:17 Wheat_002_001_001_003.jpg\n",
            "-rw-r--r-- 1 root root 15K Dec 11 01:17 Wheat_002_001_002_003.jpg\n",
            "-rw-r--r-- 1 root root 15K Dec 11 01:17 Wheat_002_001_003_003.jpg\n",
            "-rw-r--r-- 1 root root 15K Dec 11 01:17 Wheat_003_001_001_003.jpg\n",
            "-rw-r--r-- 1 root root 15K Dec 11 01:17 Wheat_003_001_002_003.jpg\n",
            "-rw-r--r-- 1 root root 15K Dec 11 01:17 Wheat_003_001_003_003.jpg\n",
            "-rw-r--r-- 1 root root 13K Dec 11 01:17 Wheat_004_001_001_003.jpg\n",
            "-rw-r--r-- 1 root root 13K Dec 11 01:17 Wheat_004_001_002_003.jpg\n",
            "-rw-r--r-- 1 root root 14K Dec 11 01:18 Wheat_004_001_003_003.jpg\n",
            "-rw-r--r-- 1 root root 15K Dec 11 01:18 Wheat_005_001_001_003.jpg\n",
            "-rw-r--r-- 1 root root 15K Dec 11 01:18 Wheat_005_001_002_003.jpg\n",
            "-rw-r--r-- 1 root root 15K Dec 11 01:18 Wheat_005_001_003_003.jpg\n"
          ]
        }
      ]
    },
    {
      "cell_type": "code",
      "source": [
        "!git clone https://github.com/dbolya/yolact.git\n",
        "#\n",
        "\n",
        "%cd /content/yolact/data\n",
        "#!ls -l\n",
        "\n",
        "# manually edit /content/yolact/data/config.py"
      ],
      "metadata": {
        "colab": {
          "base_uri": "https://localhost:8080/"
        },
        "id": "5zLvIP9ZYlvX",
        "outputId": "6c21641e-cbbe-46b2-96ce-eaf3fc0f9b90"
      },
      "execution_count": 1,
      "outputs": [
        {
          "output_type": "stream",
          "name": "stdout",
          "text": [
            "Cloning into 'yolact'...\n",
            "remote: Enumerating objects: 2936, done.\u001b[K\n",
            "remote: Total 2936 (delta 0), reused 0 (delta 0), pack-reused 2936 (from 1)\u001b[K\n",
            "Receiving objects: 100% (2936/2936), 21.20 MiB | 20.45 MiB/s, done.\n",
            "Resolving deltas: 100% (2002/2002), done.\n",
            "/content/yolact/data\n"
          ]
        }
      ]
    },
    {
      "cell_type": "code",
      "source": [
        "!vi config.py"
      ],
      "metadata": {
        "colab": {
          "base_uri": "https://localhost:8080/"
        },
        "id": "2yW1CdoIeGrJ",
        "outputId": "3fa8ec8b-ff08-4dd4-c368-7a7d74992bed"
      },
      "execution_count": null,
      "outputs": [
        {
          "metadata": {
            "tags": null
          },
          "name": "stdout",
          "output_type": "stream",
          "text": [
            "\u001b7\u001b[?47h\u001b[>4;2m\u001b[?1h\u001b=\u001b[?2004h\u001b[?1004h\u001b[1;24r\u001b[?12h\u001b[?12l\u001b[22;2t\u001b[22;1t\u001b[29m\u001b[m\u001b[H\u001b[2J\u001b[?25l\u001b[24;1H\"config.py\" 826L, 31172B\u001b[2;1H▽\u001b[6n\u001b[2;1H  \u001b[3;1H\u001bPzz\u001b\\\u001b[0%m\u001b[6n\u001b[3;1H           \u001b[1;1H\u001b[>c\u001b]10;?\u0007\u001b]11;?\u0007\u001b[1;1H\u001b[35mfrom\u001b[m backbone \u001b[35mimport\u001b[m ResNetBackbone, VGGBackbone, ResNetBackboneGN, DarkNetBackbone\r\n",
            "\u001b[35mfrom\u001b[m math \u001b[35mimport\u001b[m sqrt\u001b[2;22H\u001b[K\u001b[3;1H\u001b[35mimport\u001b[m torch\u001b[3;13H\u001b[K\u001b[5;1H\u001b[34m# for making bounding boxes pretty\u001b[m\r\n",
            "COLORS = ((\u001b[31m244\u001b[m,  \u001b[31m67\u001b[m,  \u001b[31m54\u001b[m),\u001b[7;11H(\u001b[31m233\u001b[m,  \u001b[31m30\u001b[m,  \u001b[31m99\u001b[m),\u001b[8;11H(\u001b[31m156\u001b[m,  \u001b[31m39\u001b[m, \u001b[31m176\u001b[m),\u001b[9;11H(\u001b[31m103\u001b[m,  \u001b[31m58\u001b[m, \u001b[31m183\u001b[m),\u001b[10;11H( \u001b[31m63\u001b[m,  \u001b[31m81\u001b[m, \u001b[31m181\u001b[m),\u001b[11;11H( \u001b[31m33\u001b[m, \u001b[31m150\u001b[m, \u001b[31m243\u001b[m),\u001b[12;11H(  \u001b[31m3\u001b[m, \u001b[31m169\u001b[m, \u001b[31m244\u001b[m),\u001b[13;11H(  \u001b[31m0\u001b[m, \u001b[31m188\u001b[m, \u001b[31m212\u001b[m),\u001b[14;11H(  \u001b[31m0\u001b[m, \u001b[31m150\u001b[m, \u001b[31m136\u001b[m),\u001b[15;11H( \u001b[31m76\u001b[m, \u001b[31m175\u001b[m,  \u001b[31m80\u001b[m),\u001b[16;11H(\u001b[31m139\u001b[m, \u001b[31m195\u001b[m,  \u001b[31m74\u001b[m),\u001b[17;11H(\u001b[31m205\u001b[m, \u001b[31m220\u001b[m,  \u001b[31m57\u001b[m),\u001b[18;11H(\u001b[31m255\u001b[m, \u001b[31m235\u001b[m,  \u001b[31m59\u001b[m),\u001b[19;11H(\u001b[31m255\u001b[m, \u001b[31m193\u001b[m,   \u001b[31m7\u001b[m),\u001b[20;11H(\u001b[31m255\u001b[m, \u001b[31m152\u001b[m,   \u001b[31m0\u001b[m),\u001b[21;11H(\u001b[31m255\u001b[m,  \u001b[31m87\u001b[m,  \u001b[31m34\u001b[m),\u001b[22;11H(\u001b[31m121\u001b[m,  \u001b[31m85\u001b[m,  \u001b[31m72\u001b[m),\u001b[23;11H(\u001b[31m158\u001b[m, \u001b[31m158\u001b[m, \u001b[31m158\u001b[m),\u001b[24;83H1,1\u001b[11CTop\u001b[1;1H\u001b[?25h"
          ]
        }
      ]
    }
  ],
  "metadata": {
    "colab": {
      "provenance": [],
      "authorship_tag": "ABX9TyMuisKDC/KPIOvnfMYzqWik",
      "include_colab_link": true
    },
    "kernelspec": {
      "display_name": "Python 3",
      "name": "python3"
    },
    "language_info": {
      "name": "python"
    }
  },
  "nbformat": 4,
  "nbformat_minor": 0
}